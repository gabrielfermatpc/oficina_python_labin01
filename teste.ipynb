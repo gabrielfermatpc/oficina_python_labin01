{
 "cells": [
  {
   "cell_type": "markdown",
   "metadata": {},
   "source": [
    "# Calculadora de IMC"
   ]
  },
  {
   "cell_type": "code",
   "execution_count": null,
   "metadata": {},
   "outputs": [],
   "source": [
    "peso = 80\n",
    "altura = 1.8"
   ]
  },
  {
   "cell_type": "code",
   "execution_count": null,
   "metadata": {},
   "outputs": [],
   "source": [
    "if peso <= 0 or altura <= 0:\n",
    "    print(\"Peso e altura devem ser valores positivos.\")"
   ]
  },
  {
   "cell_type": "code",
   "execution_count": null,
   "metadata": {},
   "outputs": [],
   "source": [
    "imc = peso / (altura ** 2)\n",
    "print(f\"Seu IMC é: {imc:.2f}\")"
   ]
  },
  {
   "cell_type": "code",
   "execution_count": null,
   "metadata": {},
   "outputs": [
    {
     "name": "stdout",
     "output_type": "stream",
     "text": [
      "Seu IMC é: 24.69\n",
      "Classificação: Peso normal\n"
     ]
    }
   ],
   "source": [
    "if imc < 18.5:\n",
    "    print(\"Classificação: Abaixo do peso\")\n",
    "elif 18.5 <= imc < 24.9:\n",
    "    print(\"Classificação: Peso normal\")\n",
    "elif 25 <= imc < 29.9:\n",
    "    print(\"Classificação: Sobrepeso\")\n",
    "else:\n",
    "    print(\"Classificação: Obesidade\")"
   ]
  }
 ],
 "metadata": {
  "kernelspec": {
   "display_name": "base",
   "language": "python",
   "name": "python3"
  },
  "language_info": {
   "codemirror_mode": {
    "name": "ipython",
    "version": 3
   },
   "file_extension": ".py",
   "mimetype": "text/x-python",
   "name": "python",
   "nbconvert_exporter": "python",
   "pygments_lexer": "ipython3",
   "version": "3.12.7"
  }
 },
 "nbformat": 4,
 "nbformat_minor": 2
}
