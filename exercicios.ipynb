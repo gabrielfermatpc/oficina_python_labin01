{
 "cells": [
  {
   "cell_type": "markdown",
   "metadata": {},
   "source": [
    "# Exercicio 1 : faça uma progama que recebe 3 notas e calcula a média aritimetica entre eleas"
   ]
  },
  {
   "cell_type": "code",
   "execution_count": null,
   "metadata": {},
   "outputs": [],
   "source": [
    "nota1 = 5\n",
    "nota2 = 2\n",
    "nota3 = 1\n",
    "média = (nota1 + nota2 + nota3)/3\n",
    "print(f\" A média das notas é {média:.2f}\")"
   ]
  },
  {
   "cell_type": "markdown",
   "metadata": {},
   "source": [
    "# Exercicio 2 : Melhore o progama do Exercicio 1 para que ele além de calcular a média, exiba também se o aluno foi aprovado ou reprovado"
   ]
  },
  {
   "cell_type": "code",
   "execution_count": null,
   "metadata": {},
   "outputs": [],
   "source": [
    "nota1, nota2, nota3 = 6,7,9\n",
    "média = (nota1 + nota2 + nota3)/3\n",
    "if média >= 6: \n",
    "    print(f\" A média das notas é {média:.2f} e o aluno foi aprovado!\")\n",
    "else:\n",
    "    print(f\"A média das notas é {média:.2f} e o aluno foi reprovado!\")"
   ]
  }
 ],
 "metadata": {
  "language_info": {
   "name": "python"
  }
 },
 "nbformat": 4,
 "nbformat_minor": 2
}
