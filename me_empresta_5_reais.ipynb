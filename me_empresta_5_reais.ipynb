{
 "cells": [
  {
   "cell_type": "code",
   "execution_count": 7,
   "metadata": {},
   "outputs": [],
   "source": [
    "import tkinter as tk\n",
    "import random\n",
    "\n",
    "# Função para mover o botão \"Não\" para um lugar aleatório\n",
    "def mover_nao():\n",
    "    novo_x = random.randint(0, janela.winfo_width() - 100)\n",
    "    novo_y = random.randint(0, janela.winfo_height() - 50)\n",
    "    botao_nao.place(x=novo_x, y=novo_y)\n",
    "\n",
    "# Função para exibir a mensagem de agradecimento e encerrar o programa\n",
    "def agradecer():\n",
    "    label_titulo.config(text=\"Muito obrigado!\", fg=\"green\")\n",
    "    janela.after(1000, janela.destroy)  # Aguarda 1 segundo antes de fechar a janela\n",
    "\n",
    "# Criar a janela principal\n",
    "janela = tk.Tk()\n",
    "janela.title(\"Me empresta 5 reais\")\n",
    "janela.geometry(\"400x300\")\n",
    "janela.configure(background=\"black\")  # Define o fundo como preto\n",
    "\n",
    "# Adicionar título\n",
    "label_titulo = tk.Label(janela, text=\"Me empresta 5 reais?\", font=(\"Arial\", 16), bg=\"black\", fg=\"white\")\n",
    "label_titulo.pack(pady=20)\n",
    "\n",
    "# Botão \"Sim\"\n",
    "botao_sim = tk.Button(janela, text=\"Sim\", font=(\"Arial\", 12), command=agradecer)\n",
    "botao_sim.pack(pady=10)\n",
    "\n",
    "# Botão \"Não\"\n",
    "botao_nao = tk.Button(janela, text=\"Não\", font=(\"Arial\", 12), command=mover_nao)\n",
    "botao_nao.place(x=150, y=150)\n",
    "\n",
    "# Iniciar o loop da aplicação\n",
    "janela.mainloop()\n",
    "\n"
   ]
  }
 ],
 "metadata": {
  "kernelspec": {
   "display_name": "base",
   "language": "python",
   "name": "python3"
  },
  "language_info": {
   "codemirror_mode": {
    "name": "ipython",
    "version": 3
   },
   "file_extension": ".py",
   "mimetype": "text/x-python",
   "name": "python",
   "nbconvert_exporter": "python",
   "pygments_lexer": "ipython3",
   "version": "3.12.7"
  }
 },
 "nbformat": 4,
 "nbformat_minor": 2
}
